{
 "cells": [
  {
   "cell_type": "markdown",
   "metadata": {},
   "source": [
    "# Government Expenditure Analysis"
   ]
  },
  {
   "cell_type": "code",
   "execution_count": 286,
   "metadata": {
    "collapsed": false,
    "scrolled": false
   },
   "outputs": [],
   "source": [
    "def set_hadoop_config(credentials):\n",
    "    prefix = \"fs.swift.service.\" + credentials['name'] \n",
    "    hconf = sc._jsc.hadoopConfiguration()\n",
    "    hconf.set(prefix + \".auth.url\", credentials['auth_url']+'/v2.0/tokens')\n",
    "    hconf.set(prefix + \".auth.endpoint.prefix\", \"endpoints\")\n",
    "    hconf.set(prefix + \".tenant\", credentials['project_id'])\n",
    "    hconf.set(prefix + \".username\", credentials['user_id'])\n",
    "    hconf.set(prefix + \".password\", credentials['password'])\n",
    "    hconf.setInt(prefix + \".http.port\", 8080)\n",
    "    hconf.set(prefix + \".region\", credentials['region'])\n",
    "    hconf.setBoolean(prefix + \".public\", True)\n",
    "    \n",
    "credentials = {}\n",
    "credentials['name'] = 'keystone'\n",
    "credentials['auth_url'] = 'https://identity.open.softlayer.com'\n",
    "credentials['project_id'] = '7e5b29ae5d444817a0aa0b9753dfc0d2'\n",
    "credentials['region'] = 'dallas'\n",
    "credentials['user_id'] = '31cb583ebfcf4cdd9b5ff76a9ddf5482'\n",
    "credentials['password'] = 'nf5}HZZ}IAOun4ER'\n",
    "set_hadoop_config(credentials)"
   ]
  },
  {
   "cell_type": "code",
   "execution_count": null,
   "metadata": {
    "collapsed": true
   },
   "outputs": [],
   "source": [
    "def isfloat(value):\n",
    "  try:\n",
    "    float(value)\n",
    "    return True\n",
    "  except ValueError:\n",
    "    return False\n",
    "\n",
    "def avg(x):\n",
    "    total = 0\n",
    "    count = 0\n",
    "    for i in range(6, 15):\n",
    "        if isfloat(x[i]):\n",
    "            total = total + float(x[i])\n",
    "            count = count + 1\n",
    "    if count == 0:\n",
    "        return 0\n",
    "    else:\n",
    "        return total / float(count)\n"
   ]
  },
  {
   "cell_type": "markdown",
   "metadata": {},
   "source": [
    "# Government expenditure on education"
   ]
  },
  {
   "cell_type": "code",
   "execution_count": 288,
   "metadata": {
    "collapsed": false
   },
   "outputs": [
    {
     "name": "stdout",
     "output_type": "stream",
     "text": [
      "1 Cuba: education spending: 11.44%, secondary school enrollment: 85.27%.\n",
      "2 Denmark: education spending: 8.08%, secondary school enrollment: 90.26%.\n",
      "3 Palau: education spending: 7.34%, secondary school enrollment: 94.86%.\n",
      "4 Cyprus: education spending: 7.02%, secondary school enrollment: 92.98%.\n",
      "5 Norway: education spending: 6.68%, secondary school enrollment: 96.08%.\n",
      "6 Moldova: education spending: 8.01%, secondary school enrollment: 79.55%.\n",
      "7 Iceland: education spending: 7.10%, secondary school enrollment: 89.05%.\n",
      "8 New Zealand: education spending: 6.51%, secondary school enrollment: 96.09%.\n",
      "9 Sweden: education spending: 6.54%, secondary school enrollment: 95.34%.\n",
      "10 Belgium: education spending: 6.18%, secondary school enrollment: 96.35%.\n",
      "11 Finland: education spending: 6.24%, secondary school enrollment: 94.30%.\n",
      "12 Israel: education spending: 5.70%, secondary school enrollment: 98.52%.\n",
      "13 Botswana: education spending: 9.17%, secondary school enrollment: 59.36%.\n",
      "14 Saudi Arabia: education spending: 5.66%, secondary school enrollment: 95.73%.\n",
      "15 St. Vincent and the Grenadines: education spending: 6.09%, secondary school enrollment: 88.20%.\n",
      "16 France: education spending: 5.54%, secondary school enrollment: 96.02%.\n",
      "17 Ukraine: education spending: 6.15%, secondary school enrollment: 85.34%.\n",
      "18 Malta: education spending: 6.54%, secondary school enrollment: 80.01%.\n",
      "19 Ireland: education spending: 5.30%, secondary school enrollment: 98.00%.\n",
      "20 Belarus: education spending: 5.32%, secondary school enrollment: 95.13%.\n"
     ]
    }
   ],
   "source": [
    "education = sc.textFile(\"swift://272data.keystone/education_gdp.csv\")\n",
    "eduParse = education.map(lambda line : line.split(\",\"))\n",
    "edu = eduParse.filter(lambda x: x[1] != \"Series Code\")\n",
    "eduTemp = edu.filter(lambda x : isfloat(x[len(x)-1]))\n",
    "eduAvg = eduTemp.map(lambda x : (x[3], (avg(x), float(x[len(x)-1]))))\n",
    "eduAvg.first()\n",
    "\n",
    "eduTop=[]\n",
    "countryTop=[]\n",
    "eduPrint = eduAvg.sortBy(ascending = False, keyfunc = lambda x : (x[1][0]*x[1][1]))\n",
    "i = 1\n",
    "for pair in eduPrint.collect():\n",
    "    print i,\"%s: education spending: %.2f%%, secondary school enrollment: %.2f%%.\" % (pair[0], pair[1][0], pair[1][1])\n",
    "    i = i + 1\n",
    "    if i == 21:\n",
    "        break;"
   ]
  },
  {
   "cell_type": "markdown",
   "metadata": {},
   "source": [
    "# Government expenditure on health"
   ]
  },
  {
   "cell_type": "code",
   "execution_count": 268,
   "metadata": {
    "collapsed": false
   },
   "outputs": [
    {
     "name": "stdout",
     "output_type": "stream",
     "text": [
      "1 United States: health spending: 16.18%, life expectancy: 78.10.\n",
      "2 Marshall Islands: health spending: 17.93%, life expectancy: 65.24.\n",
      "3 Netherlands: health spending: 11.35%, life expectancy: 80.30.\n",
      "4 France: health spending: 11.17%, life expectancy: 81.26.\n",
      "5 Germany: health spending: 11.04%, life expectancy: 79.87.\n",
      "6 Switzerland: health spending: 10.74%, life expectancy: 81.93.\n",
      "7 Austria: health spending: 10.70%, life expectancy: 80.26.\n",
      "8 \"Micronesia: health spending: 12.31%, life expectancy: 68.40.\n",
      "9 Canada: health spending: 10.35%, life expectancy: 80.68.\n",
      "10 Denmark: health spending: 10.42%, life expectancy: 78.80.\n",
      "11 Belgium: health spending: 10.13%, life expectancy: 79.79.\n",
      "12 Portugal: health spending: 10.14%, life expectancy: 78.95.\n",
      "13 Greece: health spending: 9.57%, life expectancy: 79.92.\n",
      "14 Japan: health spending: 9.16%, life expectancy: 82.59.\n",
      "15 Iceland: health spending: 9.21%, life expectancy: 81.77.\n",
      "16 Sweden: health spending: 9.27%, life expectancy: 81.16.\n",
      "17 New Zealand: health spending: 9.30%, life expectancy: 80.45.\n",
      "18 Moldova: health spending: 10.96%, life expectancy: 68.23.\n",
      "19 Cuba: health spending: 9.47%, life expectancy: 78.39.\n",
      "20 Serbia: health spending: 9.97%, life expectancy: 73.92.\n"
     ]
    }
   ],
   "source": [
    "healthData = sc.textFile(\"swift://272data.keystone/health.csv\")\n",
    "\n",
    "healthParse = healthData.map(lambda line : line.split(\",\"))\n",
    "health = healthParse.filter(lambda x: x[1] != \"Series Code\")\n",
    "healthTemp = health.filter(lambda x : isfloat(x[len(x)-1]))\n",
    "healthAvg = healthTemp.map(lambda x : (x[3], (avg(x), float(x[len(x)-1]))))\n",
    "healthAvg.first()\n",
    "\n",
    "eduTop=[]\n",
    "countryTop=[]\n",
    "healthPrint = healthAvg.sortBy(ascending = False, keyfunc = lambda x : (x[1][0]*x[1][1]))\n",
    "i = 1\n",
    "for pair in healthPrint.collect():\n",
    "    print i,\"%s: health spending: %.2f%%, life expectancy: %.2f.\" % (pair[0], pair[1][0], pair[1][1])\n",
    "    i = i + 1\n",
    "    if i == 21:\n",
    "        break;"
   ]
  },
  {
   "cell_type": "markdown",
   "metadata": {},
   "source": [
    "# Government expenditure on science and technology"
   ]
  },
  {
   "cell_type": "code",
   "execution_count": 292,
   "metadata": {
    "collapsed": false
   },
   "outputs": [
    {
     "name": "stdout",
     "output_type": "stream",
     "text": [
      "1 China: science&technology spending: 1.65%, high-technology exports: 355.00 billion dollars.\n",
      "2 United States: science&technology spending: 2.72%, high-technology exports: 175.00 billion dollars.\n",
      "3 Germany: science&technology spending: 2.74%, high-technology exports: 158.00 billion dollars.\n",
      "4 Japan: science&technology spending: 3.39%, high-technology exports: 119.00 billion dollars.\n",
      "5 \"Korea: science&technology spending: 3.32%, high-technology exports: 104.00 billion dollars.\n",
      "6 Singapore: science&technology spending: 2.25%, high-technology exports: 115.00 billion dollars.\n",
      "7 France: science&technology spending: 2.19%, high-technology exports: 91.09 billion dollars.\n",
      "8 Netherlands: science&technology spending: 1.90%, high-technology exports: 61.15 billion dollars.\n",
      "9 Switzerland: science&technology spending: 2.87%, high-technology exports: 40.03 billion dollars.\n",
      "10 United Kingdom: science&technology spending: 1.76%, high-technology exports: 64.27 billion dollars.\n",
      "11 Belgium: science&technology spending: 2.04%, high-technology exports: 28.17 billion dollars.\n",
      "12 Sweden: science&technology spending: 3.52%, high-technology exports: 16.24 billion dollars.\n",
      "13 Malaysia: science&technology spending: 0.91%, high-technology exports: 56.86 billion dollars.\n",
      "14 Canada: science&technology spending: 1.89%, high-technology exports: 26.47 billion dollars.\n",
      "15 Ireland: science&technology spending: 1.53%, high-technology exports: 25.90 billion dollars.\n",
      "16 Austria: science&technology spending: 2.67%, high-technology exports: 14.20 billion dollars.\n",
      "17 Italy: science&technology spending: 1.22%, high-technology exports: 26.80 billion dollars.\n",
      "18 Finland: science&technology spending: 3.69%, high-technology exports: 8.58 billion dollars.\n",
      "19 Israel: science&technology spending: 4.17%, high-technology exports: 7.05 billion dollars.\n",
      "20 Denmark: science&technology spending: 2.86%, high-technology exports: 9.53 billion dollars.\n"
     ]
    }
   ],
   "source": [
    "scienceData = sc.textFile(\"swift://272data.keystone/science&technology.csv\")\n",
    "scienceParse = scienceData.map(lambda line : line.split(\",\"))\n",
    "science = scienceParse.filter(lambda x: x[1] != \"Series Code\")\n",
    "scienceTemp = science.filter(lambda x : isfloat(x[len(x)-1]))\n",
    "scienceAvg = scienceTemp.map(lambda x : (x[2], (avg(x), float(x[len(x)-1]))))\n",
    "scienceAvg.first()\n",
    "\n",
    "eduTop=[]\n",
    "countryTop=[]\n",
    "healthPrint = scienceAvg.sortBy(ascending = False, keyfunc = lambda x : (x[1][0]*x[1][1]))\n",
    "i = 1\n",
    "for pair in healthPrint.collect():\n",
    "    print i,\"%s: science&technology spending: %.2f%%, high-technology exports: %.2f billion dollars.\" % (pair[0], pair[1][0], pair[1][1]/1000000000)\n",
    "    i = i + 1\n",
    "    if i == 21:\n",
    "        break;"
   ]
  },
  {
   "cell_type": "markdown",
   "metadata": {},
   "source": [
    "# Government expenditure on military"
   ]
  },
  {
   "cell_type": "code",
   "execution_count": 313,
   "metadata": {
    "collapsed": false
   },
   "outputs": [
    {
     "name": "stdout",
     "output_type": "stream",
     "text": [
      "1 Oman: military spending: 11.00%.\n",
      "2 Saudi Arabia: military spending: 8.52%.\n",
      "3 South Sudan: military spending: 6.70%.\n",
      "4 Israel: military spending: 6.31%.\n",
      "5 Chad: military spending: 5.37%.\n",
      "6 United Arab Emirates: military spending: 4.88%.\n",
      "7 Jordan: military spending: 4.87%.\n",
      "8 Georgia: military spending: 4.85%.\n",
      "9 Djibouti: military spending: 4.71%.\n",
      "10 \"Yemen: military spending: 4.64%.\n",
      "11 Sudan: military spending: 4.29%.\n",
      "12 Lebanon: military spending: 4.27%.\n",
      "13 Syrian Arab Republic: military spending: 4.25%.\n",
      "14 Angola: military spending: 4.19%.\n",
      "15 United States: military spending: 4.15%.\n",
      "16 Algeria: military spending: 3.93%.\n",
      "17 Myanmar: military spending: 3.90%.\n",
      "18 Russian Federation: military spending: 3.86%.\n",
      "19 Azerbaijan: military spending: 3.84%.\n",
      "20 Armenia: military spending: 3.78%.\n"
     ]
    }
   ],
   "source": [
    "militaryData = sc.textFile(\"swift://272data.keystone/military.csv\")\n",
    "militaryParse = militaryData.map(lambda line : line.split(\",\"))\n",
    "military = militaryParse.filter(lambda x: x[0] != u\"Series Name\")\n",
    "militaryAvg = military.map(lambda x : (x[2], avg(x)))\n",
    "\n",
    "eduTop=[]\n",
    "countryTop=[]\n",
    "i = 1\n",
    "for pair in militaryAvg.map(lambda (x,y) : (y,x)).top(20):\n",
    "    print i,\"%s: military spending: %.2f%%.\" % (pair[1], pair[0])\n",
    "    i = i + 1\n",
    "    if i == 21:\n",
    "        break;"
   ]
  },
  {
   "cell_type": "code",
   "execution_count": null,
   "metadata": {
    "collapsed": true
   },
   "outputs": [],
   "source": []
  }
 ],
 "metadata": {
  "celltoolbar": "Raw Cell Format",
  "kernelspec": {
   "display_name": "Python 2",
   "language": "python",
   "name": "python2"
  },
  "language_info": {
   "codemirror_mode": {
    "name": "ipython",
    "version": 2
   },
   "file_extension": ".py",
   "mimetype": "text/x-python",
   "name": "python",
   "nbconvert_exporter": "python",
   "pygments_lexer": "ipython2",
   "version": "2.7.9"
  }
 },
 "nbformat": 4,
 "nbformat_minor": 0
}